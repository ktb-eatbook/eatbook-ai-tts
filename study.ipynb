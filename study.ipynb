{
 "cells": [
  {
   "metadata": {},
   "cell_type": "markdown",
   "source": [
    "논문에서의 마크포인트\n",
    "\n",
    "1. seq 2 seq\n",
    "2. wavenet(보코더) 는 기존과 다르다\n",
    "3. mse loss 를 이용하기에 적합하다\n",
    "4. Tacotron2 는 mel-spectrogram을 생성한다\n",
    "5. wavenet(보코더)는 mel-spectrogram을 음성파일로 변환한다.\n",
    "6. mel-spectrogram의 특성\n",
    "    - STFT (Short Time Fourier Transform) 크기와 관련\n",
    "    - STFT의 주파수 축에 비선형 변환을 적용하여 획득\n",
    "    - 주파수의 차원을 더 적은 차원으로 요약\n",
    "    - 저주파(정보)를 고주파(잡음, 특성)보다 강조\n",
    "    - 음성관련 도메인의 표준\n",
    "7. \n",
    "    "
   ],
   "id": "5bd72a32b302314a"
  },
  {
   "metadata": {},
   "cell_type": "markdown",
   "source": "",
   "id": "70815c35a34fc67f"
  }
 ],
 "metadata": {
  "kernelspec": {
   "display_name": "Python 3",
   "language": "python",
   "name": "python3"
  },
  "language_info": {
   "codemirror_mode": {
    "name": "ipython",
    "version": 2
   },
   "file_extension": ".py",
   "mimetype": "text/x-python",
   "name": "python",
   "nbconvert_exporter": "python",
   "pygments_lexer": "ipython2",
   "version": "2.7.6"
  }
 },
 "nbformat": 4,
 "nbformat_minor": 5
}
